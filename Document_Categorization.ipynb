{
 "cells": [
  {
   "cell_type": "code",
   "id": "initial_id",
   "metadata": {
    "collapsed": true,
    "ExecuteTime": {
     "end_time": "2025-01-14T12:37:46.424639Z",
     "start_time": "2025-01-14T12:37:46.421161Z"
    }
   },
   "source": [
    "import re\n",
    "import pandas as pd\n",
    "from sklearn.model_selection import train_test_split\n",
    "import numpy as np\n",
    "from sklearn.metrics import confusion_matrix\n",
    "import numpy as np\n",
    "import os\n",
    "from sklearn.metrics import confusion_matrix, accuracy_score, precision_score, recall_score, f1_score, cohen_kappa_score\n",
    "import os\n",
    "import matplotlib.pyplot as plt\n"
   ],
   "outputs": [],
   "execution_count": 53
  },
  {
   "metadata": {},
   "cell_type": "markdown",
   "source": "### Bayesian document categorization: Bernoulli model",
   "id": "deafed7dbbfc9c11"
  },
  {
   "metadata": {
    "ExecuteTime": {
     "end_time": "2025-01-14T12:37:46.673830Z",
     "start_time": "2025-01-14T12:37:46.669594Z"
    }
   },
   "cell_type": "code",
   "source": [
    "def get_bug_of_words(path):\n",
    "    with open(path, \"r\", encoding=\"utf-8\") as file:\n",
    "        text = file.read()\n",
    "    # Удаляем заголовок и метаданные, оставляя только тело сообщения\n",
    "    body = text.split(\"\\n\\n\", 1)[-1]\n",
    "    # Удаляем строки с цитатами (начинаются с \">\") и лишние пробелы\n",
    "    body_cleaned = re.sub(r\"^>.*\", \"\", body, flags=re.MULTILINE).strip()\n",
    "    \n",
    "    body_cleaned = re.sub(r\"[^\\w\\s]\", \"\", body_cleaned)  # Убираем спецсимволы\n",
    "    body_cleaned = re.sub(r\"\\d+\", \"\", body_cleaned)  # Убираем числа\n",
    "    \n",
    "    body_cleaned = body_cleaned.lower()\n",
    "    words_set = set(body_cleaned.split())\n",
    "    \n",
    "    # Выводим результат\n",
    "    return words_set"
   ],
   "id": "2658b802c9472061",
   "outputs": [],
   "execution_count": 54
  },
  {
   "metadata": {
    "ExecuteTime": {
     "end_time": "2025-01-14T12:37:46.982801Z",
     "start_time": "2025-01-14T12:37:46.980290Z"
    }
   },
   "cell_type": "code",
   "source": "categories = {\"autos\": 0, \"med\" : 0, \"motorcycles\": 0, \"religion_christian\": 0, \"politics_mideast\": 0, \"space\": 0}",
   "id": "1dc2023fd3252e94",
   "outputs": [],
   "execution_count": 55
  },
  {
   "metadata": {
    "ExecuteTime": {
     "end_time": "2025-01-14T12:37:47.346691Z",
     "start_time": "2025-01-14T12:37:47.340335Z"
    }
   },
   "cell_type": "code",
   "source": [
    "def get_folder_structure(folder_path):\n",
    "    folder_dict = {}\n",
    "    for root, dirs, files in os.walk(folder_path):\n",
    "        rel_path = os.path.relpath(root, folder_path)\n",
    "        current_folder = folder_dict if rel_path == \".\" else get_nested_dict(folder_dict, rel_path.split(os.sep))\n",
    "        current_folder.update({file: None for file in files})\n",
    "        for d in dirs:\n",
    "            current_folder[d] = {}\n",
    "    return folder_dict\n",
    "\n",
    "def get_nested_dict(base_dict, keys):\n",
    "    for key in keys:\n",
    "        base_dict = base_dict.setdefault(key, {})\n",
    "    return base_dict\n",
    "folder_structure = get_folder_structure(\"./data_ml_v2-11\")"
   ],
   "id": "8e69f246d2daa715",
   "outputs": [],
   "execution_count": 56
  },
  {
   "metadata": {
    "ExecuteTime": {
     "end_time": "2025-01-14T12:37:47.643483Z",
     "start_time": "2025-01-14T12:37:47.640623Z"
    }
   },
   "cell_type": "code",
   "source": "folder_structure.pop(\"stopwords\")",
   "id": "8fb4c63443b7b6d2",
   "outputs": [],
   "execution_count": 57
  },
  {
   "metadata": {
    "ExecuteTime": {
     "end_time": "2025-01-14T12:37:48.071242Z",
     "start_time": "2025-01-14T12:37:48.066518Z"
    }
   },
   "cell_type": "code",
   "source": "stopwords = get_bug_of_words(\"./data_ml_v2-11/stopwords\")",
   "id": "d3edb1ce32defe1e",
   "outputs": [],
   "execution_count": 58
  },
  {
   "metadata": {
    "ExecuteTime": {
     "end_time": "2025-01-14T12:37:49.077751Z",
     "start_time": "2025-01-14T12:37:49.072849Z"
    }
   },
   "cell_type": "code",
   "source": [
    "def set_bug_of_words(folder_structure):\n",
    "    common_bug = set()\n",
    "    doc_index_list= []\n",
    "    topic_docs_indexes =  dict()\n",
    "    for topic, name_sets in folder_structure.items():\n",
    "        topic_docs_indexes.update({topic:[]})\n",
    "        cnt = 0 \n",
    "        for name_doc, _ in name_sets.items():\n",
    "            doc_index = f\"{topic}/{name_doc}\"\n",
    "            doc_index_list.append(doc_index)\n",
    "            topic_docs_indexes[topic].append(doc_index)\n",
    "            res = os.path.join(os.path.curdir,\"data_ml_v2-11\", topic,f\"{name_doc}\" )\n",
    "            value  = get_bug_of_words(res)\n",
    "            folder_structure[topic][name_doc] = value\n",
    "            common_bug = common_bug.union(value)\n",
    "            cnt+=1\n",
    "        categories[topic] = cnt\n",
    "    return common_bug, doc_index_list, topic_docs_indexes \n",
    "    "
   ],
   "id": "9c6078990313757e",
   "outputs": [],
   "execution_count": 59
  },
  {
   "metadata": {
    "ExecuteTime": {
     "end_time": "2025-01-14T12:37:49.898892Z",
     "start_time": "2025-01-14T12:37:49.651505Z"
    }
   },
   "cell_type": "code",
   "source": "com_bug, doc_indexes, topic_docs_indexes = set_bug_of_words(folder_structure) # формируем общий мешок слов",
   "id": "1d3ef59dab40121b",
   "outputs": [],
   "execution_count": 60
  },
  {
   "metadata": {
    "ExecuteTime": {
     "end_time": "2025-01-14T12:37:50.396416Z",
     "start_time": "2025-01-14T12:37:50.387907Z"
    }
   },
   "cell_type": "code",
   "source": [
    "def task1(folder_structure, com_bug,stopwords):\n",
    "    full_unique_words = np.array([])\n",
    "    full_unique_withstopwords = np.array([])\n",
    "    for topic, name_sets in folder_structure.items():\n",
    "        unique_words= []\n",
    "        unique_words_wout_stopwords= []\n",
    "        for name_doc, _ in name_sets.items():\n",
    "            unique_words.append(len(folder_structure[topic][name_doc]))\n",
    "            unique_words_wout_stopwords.append( len(folder_structure[topic][name_doc] - stopwords))\n",
    "        unique_words = np.array(unique_words)\n",
    "        unique_words_wout_stopwords = np.array(unique_words_wout_stopwords)\n",
    "        print(f\"{topic} mean unqiue:{np.mean(unique_words):.2f}, std:{np.std(unique_words):.2f}\")\n",
    "        print(f\"{topic} mean unqiue\\(stopwords):{np.mean(unique_words_wout_stopwords):.2f}, std:{np.std(unique_words_wout_stopwords):.2f}\")\n",
    "        full_unique_words = np.hstack((full_unique_words, unique_words))\n",
    "        full_unique_withstopwords = np.hstack((full_unique_words, unique_words_wout_stopwords))\n",
    "    fig, axes = plt.subplots(1, 2, figsize=(12, 5))  # 1 строка, 2 столбца\n",
    "\n",
    "    # Построение первой гистограммы\n",
    "    axes[0].hist(full_unique_words, bins=30, edgecolor='black', alpha=0.7)\n",
    "    axes[0].set_title(\"Распределение кол-ва уникальных слов\")\n",
    "    axes[0].set_xlabel(\"Значения\")\n",
    "    axes[0].set_ylabel(\"Частота\")\n",
    "    \n",
    "    # Построение второй гистограммы\n",
    "    axes[1].hist(full_unique_withstopwords, bins=30, edgecolor='black', alpha=0.7, color='orange')\n",
    "    axes[1].set_title(\"Распределение кол-ва уникальных слов без стопслов\")\n",
    "    axes[1].set_xlabel(\"Значения\")\n",
    "    axes[1].set_ylabel(\"Частота\")\n",
    "    \n",
    "    # Показ графиков\n",
    "    plt.tight_layout()  # Автоматическая оптимизация расположения графиков\n",
    "    plt.show()\n",
    "    "
   ],
   "id": "f82faf7d0d473551",
   "outputs": [],
   "execution_count": 61
  },
  {
   "metadata": {},
   "cell_type": "markdown",
   "source": "### 1. Для каждой категории рассчитать среднее значение и с.к.о. (по документам) числа содержащихся в них различных (повторы не учитывать): а) слов; б) стоп-слов. Построить гистограммы распределения документов по числу содержащихся в них: а) различных слов; б) различных стоп-слов.",
   "id": "b046d35d37ee4cf"
  },
  {
   "metadata": {
    "ExecuteTime": {
     "end_time": "2025-01-14T12:37:52.670842Z",
     "start_time": "2025-01-14T12:37:52.467315Z"
    }
   },
   "cell_type": "code",
   "source": "task1(folder_structure, com_bug, stopwords)",
   "id": "9ecb28c190c7dfd9",
   "outputs": [
    {
     "name": "stdout",
     "output_type": "stream",
     "text": [
      "autos mean unqiue:84.30, std:60.52\n",
      "autos mean unqiue\\(stopwords):46.38, std:38.96\n",
      "med mean unqiue:156.28, std:204.61\n",
      "med mean unqiue\\(stopwords):100.89, std:168.32\n",
      "motorcycles mean unqiue:87.94, std:54.42\n",
      "motorcycles mean unqiue\\(stopwords):48.85, std:35.11\n",
      "politics_mideast mean unqiue:139.15, std:139.68\n",
      "politics_mideast mean unqiue\\(stopwords):88.62, std:110.23\n",
      "religion_christian mean unqiue:167.51, std:144.36\n",
      "religion_christian mean unqiue\\(stopwords):98.75, std:102.63\n",
      "space mean unqiue:130.84, std:185.23\n",
      "space mean unqiue\\(stopwords):85.81, std:153.33\n"
     ]
    },
    {
     "data": {
      "text/plain": [
       "<Figure size 1200x500 with 2 Axes>"
      ],
      "image/png": "[encoded data removed]"
     },
     "metadata": {},
     "output_type": "display_data"
    }
   ],
   "execution_count": 62
  },
  {
   "metadata": {},
   "cell_type": "markdown",
   "source": "",
   "id": "97267dd56cda5552"
  },
  {
   "metadata": {
    "ExecuteTime": {
     "end_time": "2025-01-14T12:38:54.319720Z",
     "start_time": "2025-01-14T12:38:54.315873Z"
    }
   },
   "cell_type": "code",
   "source": [
    "def bugs_without_stopwords(folder_structure, com_bug, stopwords):\n",
    "    for topic, name_sets in folder_structure.items():\n",
    "        for name_doc, _ in name_sets.items():\n",
    "            folder_structure[topic][name_doc] = folder_structure[topic][name_doc] - stopwords\n",
    "    return  com_bug - stopwords"
   ],
   "id": "14afc0113612647e",
   "outputs": [],
   "execution_count": 69
  },
  {
   "metadata": {},
   "cell_type": "markdown",
   "source": "### 2. Сформировать словарь (из всех слов, встречающихся во всех документах), исключить из словаря стоп-слова.",
   "id": "166037761c542757"
  },
  {
   "metadata": {
    "ExecuteTime": {
     "end_time": "2025-01-14T12:37:56.501340Z",
     "start_time": "2025-01-14T12:37:56.491831Z"
    }
   },
   "cell_type": "code",
   "source": "com_bug = bugs_without_stopwords(folder_structure, com_bug, stopwords)",
   "id": "7b82f34d89395f5a",
   "outputs": [],
   "execution_count": 64
  },
  {
   "metadata": {
    "ExecuteTime": {
     "end_time": "2025-01-14T12:47:27.212771Z",
     "start_time": "2025-01-14T12:47:27.209254Z"
    }
   },
   "cell_type": "code",
   "source": "len(com_bug)",
   "id": "9b3eb53fed4911e6",
   "outputs": [
    {
     "data": {
      "text/plain": [
       "16893"
      ]
     },
     "execution_count": 93,
     "metadata": {},
     "output_type": "execute_result"
    }
   ],
   "execution_count": 93
  },
  {
   "metadata": {},
   "cell_type": "markdown",
   "source": "### 3. Сформировать и визуализировать бинарную матрицу вхождения слов в документы (по строкам – документы, по столбцам – слова из словаря, 1 – слово встречается в документе, 0 – не встречается).",
   "id": "24b5cdeedaec9310"
  },
  {
   "metadata": {
    "ExecuteTime": {
     "end_time": "2025-01-14T12:38:00.821776Z",
     "start_time": "2025-01-14T12:38:00.795501Z"
    }
   },
   "cell_type": "code",
   "source": "data = pd.DataFrame(0,columns=list(com_bug), index=doc_indexes)",
   "id": "d92f91a958fb75de",
   "outputs": [],
   "execution_count": 65
  },
  {
   "metadata": {
    "ExecuteTime": {
     "end_time": "2025-01-14T12:38:02.370791Z",
     "start_time": "2025-01-14T12:38:02.365838Z"
    }
   },
   "cell_type": "code",
   "source": "data[\"CLASS_\"] = None",
   "id": "39d65b55b39728bb",
   "outputs": [],
   "execution_count": 66
  },
  {
   "metadata": {
    "ExecuteTime": {
     "end_time": "2025-01-14T12:38:15.247635Z",
     "start_time": "2025-01-14T12:38:15.244490Z"
    }
   },
   "cell_type": "code",
   "source": [
    "def fill_table(folder_structure,data):\n",
    "    for topic, name_sets in folder_structure.items():\n",
    "        for name_doc, _ in name_sets.items():\n",
    "            doc_index = f\"{topic}/{name_doc}\"\n",
    "            bug_words_of_doc = folder_structure[topic][name_doc]\n",
    "            data.loc[doc_index, list(bug_words_of_doc)] = 1\n",
    "            data.loc[doc_index, \"CLASS_\"] = topic"
   ],
   "id": "f47a0e82bc8fbd3b",
   "outputs": [],
   "execution_count": 67
  },
  {
   "metadata": {
    "ExecuteTime": {
     "end_time": "2025-01-14T12:38:20.173572Z",
     "start_time": "2025-01-14T12:38:17.238934Z"
    }
   },
   "cell_type": "code",
   "source": "fill_table(folder_structure,data)",
   "id": "15ab3554c14fe9cb",
   "outputs": [],
   "execution_count": 68
  },
  {
   "metadata": {},
   "cell_type": "markdown",
   "source": "### покажем первые 10 документов и 10 слов( матрица огромная)",
   "id": "9a9846401b90c7b0"
  },
  {
   "metadata": {
    "ExecuteTime": {
     "end_time": "2025-01-14T12:40:26.727158Z",
     "start_time": "2025-01-14T12:40:26.717691Z"
    }
   },
   "cell_type": "code",
   "source": "data.iloc[:10,:10]",
   "id": "155ca6d9c43d4c35",
   "outputs": [
    {
     "data": {
      "text/plain": [
       "              factory  rcc  procedures  negotiable  preceding  solidarity  \\\n",
       "autos/101564        0    0           0           0          0           0   \n",
       "autos/101577        0    0           0           0          0           0   \n",
       "autos/101592        0    0           0           0          0           0   \n",
       "autos/101597        0    0           0           0          0           0   \n",
       "autos/101603        0    0           0           0          0           0   \n",
       "autos/101609        0    0           0           0          0           0   \n",
       "autos/101614        0    0           0           0          0           0   \n",
       "autos/101624        0    0           0           0          0           0   \n",
       "autos/101628        0    0           0           0          0           0   \n",
       "autos/101629        0    0           0           0          0           0   \n",
       "\n",
       "              wednesdays  faulty  syntactic  unfair  \n",
       "autos/101564           0       0          0       0  \n",
       "autos/101577           0       0          0       0  \n",
       "autos/101592           0       0          0       0  \n",
       "autos/101597           0       0          0       0  \n",
       "autos/101603           0       0          0       0  \n",
       "autos/101609           0       0          0       0  \n",
       "autos/101614           0       0          0       0  \n",
       "autos/101624           0       0          0       0  \n",
       "autos/101628           0       0          0       0  \n",
       "autos/101629           0       0          0       0  "
      ],
      "text/html": [
       "<div>\n",
       "<style scoped>\n",
       "    .dataframe tbody tr th:only-of-type {\n",
       "        vertical-align: middle;\n",
       "    }\n",
       "\n",
       "    .dataframe tbody tr th {\n",
       "        vertical-align: top;\n",
       "    }\n",
       "\n",
       "    .dataframe thead th {\n",
       "        text-align: right;\n",
       "    }\n",
       "</style>\n",
       "<table border=\"1\" class=\"dataframe\">\n",
       "  <thead>\n",
       "    <tr style=\"text-align: right;\">\n",
       "      <th></th>\n",
       "      <th>factory</th>\n",
       "      <th>rcc</th>\n",
       "      <th>procedures</th>\n",
       "      <th>negotiable</th>\n",
       "      <th>preceding</th>\n",
       "      <th>solidarity</th>\n",
       "      <th>wednesdays</th>\n",
       "      <th>faulty</th>\n",
       "      <th>syntactic</th>\n",
       "      <th>unfair</th>\n",
       "    </tr>\n",
       "  </thead>\n",
       "  <tbody>\n",
       "    <tr>\n",
       "      <th>autos/101564</th>\n",
       "      <td>0</td>\n",
       "      <td>0</td>\n",
       "      <td>0</td>\n",
       "      <td>0</td>\n",
       "      <td>0</td>\n",
       "      <td>0</td>\n",
       "      <td>0</td>\n",
       "      <td>0</td>\n",
       "      <td>0</td>\n",
       "      <td>0</td>\n",
       "    </tr>\n",
       "    <tr>\n",
       "      <th>autos/101577</th>\n",
       "      <td>0</td>\n",
       "      <td>0</td>\n",
       "      <td>0</td>\n",
       "      <td>0</td>\n",
       "      <td>0</td>\n",
       "      <td>0</td>\n",
       "      <td>0</td>\n",
       "      <td>0</td>\n",
       "      <td>0</td>\n",
       "      <td>0</td>\n",
       "    </tr>\n",
       "    <tr>\n",
       "      <th>autos/101592</th>\n",
       "      <td>0</td>\n",
       "      <td>0</td>\n",
       "      <td>0</td>\n",
       "      <td>0</td>\n",
       "      <td>0</td>\n",
       "      <td>0</td>\n",
       "      <td>0</td>\n",
       "      <td>0</td>\n",
       "      <td>0</td>\n",
       "      <td>0</td>\n",
       "    </tr>\n",
       "    <tr>\n",
       "      <th>autos/101597</th>\n",
       "      <td>0</td>\n",
       "      <td>0</td>\n",
       "      <td>0</td>\n",
       "      <td>0</td>\n",
       "      <td>0</td>\n",
       "      <td>0</td>\n",
       "      <td>0</td>\n",
       "      <td>0</td>\n",
       "      <td>0</td>\n",
       "      <td>0</td>\n",
       "    </tr>\n",
       "    <tr>\n",
       "      <th>autos/101603</th>\n",
       "      <td>0</td>\n",
       "      <td>0</td>\n",
       "      <td>0</td>\n",
       "      <td>0</td>\n",
       "      <td>0</td>\n",
       "      <td>0</td>\n",
       "      <td>0</td>\n",
       "      <td>0</td>\n",
       "      <td>0</td>\n",
       "      <td>0</td>\n",
       "    </tr>\n",
       "    <tr>\n",
       "      <th>autos/101609</th>\n",
       "      <td>0</td>\n",
       "      <td>0</td>\n",
       "      <td>0</td>\n",
       "      <td>0</td>\n",
       "      <td>0</td>\n",
       "      <td>0</td>\n",
       "      <td>0</td>\n",
       "      <td>0</td>\n",
       "      <td>0</td>\n",
       "      <td>0</td>\n",
       "    </tr>\n",
       "    <tr>\n",
       "      <th>autos/101614</th>\n",
       "      <td>0</td>\n",
       "      <td>0</td>\n",
       "      <td>0</td>\n",
       "      <td>0</td>\n",
       "      <td>0</td>\n",
       "      <td>0</td>\n",
       "      <td>0</td>\n",
       "      <td>0</td>\n",
       "      <td>0</td>\n",
       "      <td>0</td>\n",
       "    </tr>\n",
       "    <tr>\n",
       "      <th>autos/101624</th>\n",
       "      <td>0</td>\n",
       "      <td>0</td>\n",
       "      <td>0</td>\n",
       "      <td>0</td>\n",
       "      <td>0</td>\n",
       "      <td>0</td>\n",
       "      <td>0</td>\n",
       "      <td>0</td>\n",
       "      <td>0</td>\n",
       "      <td>0</td>\n",
       "    </tr>\n",
       "    <tr>\n",
       "      <th>autos/101628</th>\n",
       "      <td>0</td>\n",
       "      <td>0</td>\n",
       "      <td>0</td>\n",
       "      <td>0</td>\n",
       "      <td>0</td>\n",
       "      <td>0</td>\n",
       "      <td>0</td>\n",
       "      <td>0</td>\n",
       "      <td>0</td>\n",
       "      <td>0</td>\n",
       "    </tr>\n",
       "    <tr>\n",
       "      <th>autos/101629</th>\n",
       "      <td>0</td>\n",
       "      <td>0</td>\n",
       "      <td>0</td>\n",
       "      <td>0</td>\n",
       "      <td>0</td>\n",
       "      <td>0</td>\n",
       "      <td>0</td>\n",
       "      <td>0</td>\n",
       "      <td>0</td>\n",
       "      <td>0</td>\n",
       "    </tr>\n",
       "  </tbody>\n",
       "</table>\n",
       "</div>"
      ]
     },
     "execution_count": 72,
     "metadata": {},
     "output_type": "execute_result"
    }
   ],
   "execution_count": 72
  },
  {
   "metadata": {},
   "cell_type": "markdown",
   "source": "### 4. Построить модель  и  матрицу ошибок (confusion matrix) классификатора.",
   "id": "ac4fc28a1676b8c6"
  },
  {
   "metadata": {
    "ExecuteTime": {
     "end_time": "2025-01-14T12:40:56.993642Z",
     "start_time": "2025-01-14T12:40:56.988751Z"
    }
   },
   "cell_type": "code",
   "source": "prior_probs =  pd.DataFrame(0.0,index = list(com_bug), columns=categories.keys())",
   "id": "fa04c7b801f3f88",
   "outputs": [],
   "execution_count": 73
  },
  {
   "metadata": {
    "ExecuteTime": {
     "end_time": "2025-01-14T12:40:58.401904Z",
     "start_time": "2025-01-14T12:40:58.398780Z"
    }
   },
   "cell_type": "code",
   "source": "N = sum(categories.values())",
   "id": "2474543d7865e12",
   "outputs": [],
   "execution_count": 74
  },
  {
   "metadata": {
    "ExecuteTime": {
     "end_time": "2025-01-14T12:40:58.935600Z",
     "start_time": "2025-01-14T12:40:58.932319Z"
    }
   },
   "cell_type": "code",
   "source": [
    "def  compute_prior_probs(data,prior_probs,topic_docs_indexes):\n",
    "    for idx, row in prior_probs.iterrows():\n",
    "        for col in row.index:\n",
    "            n_j_k =  float(data.loc[topic_docs_indexes[col],idx].sum())\n",
    "            prior_probs.loc[idx,col] = n_j_k / categories[col] "
   ],
   "id": "c4d216fce5e31d88",
   "outputs": [],
   "execution_count": 75
  },
  {
   "metadata": {
    "ExecuteTime": {
     "end_time": "2025-01-14T12:41:24.996631Z",
     "start_time": "2025-01-14T12:41:00.619275Z"
    }
   },
   "cell_type": "code",
   "source": "compute_prior_probs(data, prior_probs, topic_docs_indexes)",
   "id": "f1b39033335ba0b9",
   "outputs": [],
   "execution_count": 76
  },
  {
   "metadata": {
    "ExecuteTime": {
     "end_time": "2025-01-14T12:41:30.239502Z",
     "start_time": "2025-01-14T12:41:30.236725Z"
    }
   },
   "cell_type": "code",
   "source": [
    "y = data[\"CLASS_\"]\n",
    "X = data[list(com_bug)]\n",
    "prior_probs.head(5)"
   ],
   "id": "a748ddb0c7e14f4a",
   "outputs": [],
   "execution_count": 77
  },
  {
   "metadata": {
    "ExecuteTime": {
     "end_time": "2025-01-14T12:41:34.351040Z",
     "start_time": "2025-01-14T12:41:34.343309Z"
    }
   },
   "cell_type": "code",
   "source": "prior_probs.head(5)",
   "id": "3d3426e2c8b28f80",
   "outputs": [
    {
     "data": {
      "text/plain": [
       "            autos   med  motorcycles  religion_christian  politics_mideast  \\\n",
       "factory      0.01  0.00         0.01                0.00              0.00   \n",
       "rcc          0.00  0.00         0.00                0.01              0.00   \n",
       "procedures   0.00  0.01         0.00                0.00              0.00   \n",
       "negotiable   0.01  0.00         0.00                0.00              0.00   \n",
       "preceding    0.00  0.01         0.00                0.01              0.01   \n",
       "\n",
       "               space  \n",
       "factory     0.000000  \n",
       "rcc         0.000000  \n",
       "procedures  0.010309  \n",
       "negotiable  0.000000  \n",
       "preceding   0.010309  "
      ],
      "text/html": [
       "<div>\n",
       "<style scoped>\n",
       "    .dataframe tbody tr th:only-of-type {\n",
       "        vertical-align: middle;\n",
       "    }\n",
       "\n",
       "    .dataframe tbody tr th {\n",
       "        vertical-align: top;\n",
       "    }\n",
       "\n",
       "    .dataframe thead th {\n",
       "        text-align: right;\n",
       "    }\n",
       "</style>\n",
       "<table border=\"1\" class=\"dataframe\">\n",
       "  <thead>\n",
       "    <tr style=\"text-align: right;\">\n",
       "      <th></th>\n",
       "      <th>autos</th>\n",
       "      <th>med</th>\n",
       "      <th>motorcycles</th>\n",
       "      <th>religion_christian</th>\n",
       "      <th>politics_mideast</th>\n",
       "      <th>space</th>\n",
       "    </tr>\n",
       "  </thead>\n",
       "  <tbody>\n",
       "    <tr>\n",
       "      <th>factory</th>\n",
       "      <td>0.01</td>\n",
       "      <td>0.00</td>\n",
       "      <td>0.01</td>\n",
       "      <td>0.00</td>\n",
       "      <td>0.00</td>\n",
       "      <td>0.000000</td>\n",
       "    </tr>\n",
       "    <tr>\n",
       "      <th>rcc</th>\n",
       "      <td>0.00</td>\n",
       "      <td>0.00</td>\n",
       "      <td>0.00</td>\n",
       "      <td>0.01</td>\n",
       "      <td>0.00</td>\n",
       "      <td>0.000000</td>\n",
       "    </tr>\n",
       "    <tr>\n",
       "      <th>procedures</th>\n",
       "      <td>0.00</td>\n",
       "      <td>0.01</td>\n",
       "      <td>0.00</td>\n",
       "      <td>0.00</td>\n",
       "      <td>0.00</td>\n",
       "      <td>0.010309</td>\n",
       "    </tr>\n",
       "    <tr>\n",
       "      <th>negotiable</th>\n",
       "      <td>0.01</td>\n",
       "      <td>0.00</td>\n",
       "      <td>0.00</td>\n",
       "      <td>0.00</td>\n",
       "      <td>0.00</td>\n",
       "      <td>0.000000</td>\n",
       "    </tr>\n",
       "    <tr>\n",
       "      <th>preceding</th>\n",
       "      <td>0.00</td>\n",
       "      <td>0.01</td>\n",
       "      <td>0.00</td>\n",
       "      <td>0.01</td>\n",
       "      <td>0.01</td>\n",
       "      <td>0.010309</td>\n",
       "    </tr>\n",
       "  </tbody>\n",
       "</table>\n",
       "</div>"
      ]
     },
     "execution_count": 80,
     "metadata": {},
     "output_type": "execute_result"
    }
   ],
   "execution_count": 80
  },
  {
   "metadata": {
    "ExecuteTime": {
     "end_time": "2025-01-14T12:44:58.464007Z",
     "start_time": "2025-01-14T12:44:58.425560Z"
    }
   },
   "cell_type": "code",
   "source": [
    "X_train, X_test, y_train, y_test = train_test_split(X, y, test_size=0.3, stratify=y, random_state=42)\n",
    "X_train.shape"
   ],
   "id": "e4318433ed3bbca7",
   "outputs": [
    {
     "data": {
      "text/plain": [
       "(417, 16893)"
      ]
     },
     "execution_count": 87,
     "metadata": {},
     "output_type": "execute_result"
    }
   ],
   "execution_count": 87
  },
  {
   "metadata": {
    "ExecuteTime": {
     "end_time": "2025-01-14T12:45:06.122301Z",
     "start_time": "2025-01-14T12:45:06.118712Z"
    }
   },
   "cell_type": "code",
   "source": [
    "def log_discriminant(row):\n",
    "    categories_score = categories.copy()\n",
    "    eps = 10e-9 #добавка, чтобы логарифм считался\n",
    "    for topic, n_k in categories.items():\n",
    "        res = np.dot(row.values, np.log(prior_probs.loc[:,topic].values + eps)) +   np.dot(1- row.values, np.log(1 - prior_probs.loc[:,topic].values)) + np.log(n_k/N)\n",
    "        categories_score[topic] = res\n",
    "    most_prob_class = sorted(categories_score, key=categories_score.get, reverse=True)[0]\n",
    "    return most_prob_class"
   ],
   "id": "87315db0530c8ed0",
   "outputs": [],
   "execution_count": 88
  },
  {
   "metadata": {
    "ExecuteTime": {
     "end_time": "2025-01-14T12:45:06.466967Z",
     "start_time": "2025-01-14T12:45:06.463381Z"
    }
   },
   "cell_type": "code",
   "source": [
    "def predict(X_test):\n",
    "    y_pred  =  X_test.apply(log_discriminant, axis= 1)\n",
    "    return y_pred"
   ],
   "id": "76923347c6483b6e",
   "outputs": [],
   "execution_count": 89
  },
  {
   "metadata": {
    "ExecuteTime": {
     "end_time": "2025-01-14T12:45:07.698740Z",
     "start_time": "2025-01-14T12:45:07.023278Z"
    }
   },
   "cell_type": "code",
   "source": "y_pred = predict(X_test)",
   "id": "ae5c11d4bf3fa5e8",
   "outputs": [],
   "execution_count": 90
  },
  {
   "metadata": {
    "ExecuteTime": {
     "end_time": "2025-01-14T12:45:09.177309Z",
     "start_time": "2025-01-14T12:45:09.172040Z"
    }
   },
   "cell_type": "code",
   "source": [
    "conf_matrix = confusion_matrix(y_test, y_pred)\n",
    "print(\"Confusion Matrix:\")\n",
    "print(conf_matrix)"
   ],
   "id": "b231b8d936101519",
   "outputs": [
    {
     "name": "stdout",
     "output_type": "stream",
     "text": [
      "Confusion Matrix:\n",
      "[[30  0  0  0  0  0]\n",
      " [ 0 30  0  0  0  0]\n",
      " [ 0  0 30  0  0  0]\n",
      " [ 0  0  0 30  0  0]\n",
      " [ 0  0  0  0 30  0]\n",
      " [ 1  0  1  0  0 28]]\n"
     ]
    }
   ],
   "execution_count": 91
  },
  {
   "metadata": {},
   "cell_type": "markdown",
   "source": "## 5. Рассчитать micro-averaged и macro-averaged показатели, основанные на таблице сопряженности: accuracy, recall, precision, F1-score, Cohen’s kappa",
   "id": "106701a6f2cd192f"
  },
  {
   "metadata": {
    "ExecuteTime": {
     "end_time": "2025-01-14T13:17:08.964248Z",
     "start_time": "2025-01-14T13:17:08.959450Z"
    }
   },
   "cell_type": "code",
   "source": [
    "def compute_metric(y_test, y_pred,  type = \"macro\"):\n",
    "    print(f\"{type}-averaged:\")\n",
    "    \n",
    "    accuracy = accuracy_score(y_test, y_pred)\n",
    "    print(f\"Accuracy:, {accuracy:.5f}\")\n",
    "    \n",
    "    precision = precision_score(y_test, y_pred, average=type)  # для всех классов\n",
    "    print(f\"Precision:, {precision:.5f}\")\n",
    "    \n",
    "    recall = recall_score(y_test, y_pred, average=type)  # для всех классов\n",
    "    print(f\"Recall: {recall:.5f}\")\n",
    "    \n",
    "    f1 = f1_score(y_test, y_pred, average=type)  # для всех классов\n",
    "    print(f\"F1-Score:, {f1:.5f}\")\n",
    "    \n",
    "    kappa = cohen_kappa_score(y_test, y_pred)\n",
    "    print(\"Cohen's kappa:\", kappa)"
   ],
   "id": "ed0aa2601070de5f",
   "outputs": [],
   "execution_count": 104
  },
  {
   "metadata": {
    "ExecuteTime": {
     "end_time": "2025-01-14T13:17:13.643475Z",
     "start_time": "2025-01-14T13:17:13.629368Z"
    }
   },
   "cell_type": "code",
   "source": "compute_metric(y_test, y_pred, \"micro\")",
   "id": "bbe55374f1a8e736",
   "outputs": [
    {
     "name": "stdout",
     "output_type": "stream",
     "text": [
      "micro-averaged:\n",
      "Accuracy:, 0.98889\n",
      "Precision:, 0.98889\n",
      "Recall: 0.98889\n",
      "F1-Score:, 0.98889\n",
      "Cohen's kappa: 0.9866666666666667\n"
     ]
    }
   ],
   "execution_count": 106
  },
  {
   "metadata": {
    "ExecuteTime": {
     "end_time": "2025-01-14T13:18:13.133399Z",
     "start_time": "2025-01-14T13:18:13.121101Z"
    }
   },
   "cell_type": "code",
   "source": "compute_metric(y_test, y_pred, \"macro\")",
   "id": "4340893275d38315",
   "outputs": [
    {
     "name": "stdout",
     "output_type": "stream",
     "text": [
      "macro-averaged:\n",
      "Accuracy:, 0.98889\n",
      "Precision:, 0.98925\n",
      "Recall: 0.98889\n",
      "F1-Score:, 0.98879\n",
      "Cohen's kappa: 0.9866666666666667\n"
     ]
    }
   ],
   "execution_count": 108
  },
  {
   "metadata": {},
   "cell_type": "code",
   "outputs": [],
   "execution_count": null,
   "source": "",
   "id": "dced0385b9f3782e"
  }
 ],
 "metadata": {
  "kernelspec": {
   "display_name": "venv",
   "language": "python",
   "name": "venv"
  },
  "language_info": {
   "codemirror_mode": {
    "name": "ipython",
    "version": 2
   },
   "file_extension": ".py",
   "mimetype": "text/x-python",
   "name": "python",
   "nbconvert_exporter": "python",
   "pygments_lexer": "ipython2",
   "version": "2.7.6"
  }
 },
 "nbformat": 4,
 "nbformat_minor": 5
}

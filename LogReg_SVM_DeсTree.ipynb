{
 "cells": [
  {
   "cell_type": "raw",
   "id": "2bee45e1-38db-40be-be09-481f0437579f",
   "metadata": {},
   "source": [
    "В приложенном файле wisc_bc_data.csv Download wisc_bc_data.csv вы найдете данные \n",
    "для определения типа опухоли (злокачественные и доброкачественные) по метрическим характеристикам (радиус, плотность и т.п.).\n",
    "Вам необходимо построить модель классификации (линейная, деревья решений или svm) для трех выборок:\n",
    "\n",
    "test_size=0.28, random_seed=300\n",
    "test_size=0.24, random_seed=13\n",
    "test_size=0.20, random_seed=8\n",
    "Не забудьте порассуждать на тему влияния отбора признаков и разделения выборки. \n",
    "По ходу выполнения задания необходимо сделать текстовые комментарии о том, \n",
    "какие параметры вы использовали, какие были результаты были получены в разных вариантах, \n",
    "какие значения параметров дают максимальных результат. Итоговая метрика\n",
    "\n",
    "Критерии:\n",
    "\n",
    "Предобработка данных (2 балла)\n",
    "Построение всех трех моделей для трех подвыборок (4 балла)\n",
    "Подбор гиперпараметров для каждой модели (2 балла)\n",
    "Оценка результатов и выводы (2 балла)"
   ]
  },
  {
   "cell_type": "code",
   "id": "c4614f20-69b0-48e4-ad57-6802b2fcc23a",
   "metadata": {
    "ExecuteTime": {
     "end_time": "2024-12-05T17:19:44.580229Z",
     "start_time": "2024-12-05T17:19:44.340340Z"
    }
   },
   "source": [
    "import matplotlib.pyplot as plt\n",
    "from matplotlib import gridspec\n",
    "import seaborn as sns\n",
    "import pandas as pd\n",
    "from tqdm import tqdm\n",
    "import numpy as np\n",
    "from scipy.special import expit\n",
    "import numpy as np\n",
    "\n",
    "from sklearn.linear_model import LogisticRegression\n",
    "from sklearn.model_selection import LeaveOneOut, KFold, StratifiedKFold, GridSearchCV\n",
    "from sklearn.metrics import classification_report\n",
    "from sklearn.model_selection import ParameterGrid\n",
    "from sklearn.model_selection import LeaveOneOut, KFold\n",
    "from sklearn.model_selection import train_test_split\n",
    "from sklearn.metrics import confusion_matrix\n",
    "from sklearn.preprocessing import StandardScaler\n",
    "from sklearn.metrics import accuracy_score\n",
    "from sklearn.metrics import f1_score\n",
    "from sklearn.svm import SVC\n",
    "from sklearn.tree import DecisionTreeClassifier"
   ],
   "outputs": [],
   "execution_count": 2
  },
  {
   "cell_type": "code",
   "execution_count": 2,
   "id": "d315d373-7ea1-4cc0-bcf1-280ccf5c5304",
   "metadata": {},
   "outputs": [],
   "source": [
    "np.random.seed(20)"
   ]
  },
  {
   "cell_type": "code",
   "id": "03269032-86ba-4d53-ada6-ed827d536b82",
   "metadata": {
    "ExecuteTime": {
     "end_time": "2024-12-05T17:19:45.987043Z",
     "start_time": "2024-12-05T17:19:45.964166Z"
    }
   },
   "source": [
    "df = pd.read_csv(\"./wisc_bc_data.csv\")\n",
    "len(df)"
   ],
   "outputs": [
    {
     "data": {
      "text/plain": [
       "569"
      ]
     },
     "execution_count": 3,
     "metadata": {},
     "output_type": "execute_result"
    }
   ],
   "execution_count": 3
  },
  {
   "cell_type": "code",
   "execution_count": 4,
   "id": "e0816121-c9f7-4ccf-947a-7ade217f8ce6",
   "metadata": {},
   "outputs": [
    {
     "data": {
      "text/html": [
       "<div>\n",
       "<style scoped>\n",
       "    .dataframe tbody tr th:only-of-type {\n",
       "        vertical-align: middle;\n",
       "    }\n",
       "\n",
       "    .dataframe tbody tr th {\n",
       "        vertical-align: top;\n",
       "    }\n",
       "\n",
       "    .dataframe thead th {\n",
       "        text-align: right;\n",
       "    }\n",
       "</style>\n",
       "<table border=\"1\" class=\"dataframe\">\n",
       "  <thead>\n",
       "    <tr style=\"text-align: right;\">\n",
       "      <th></th>\n",
       "      <th>id</th>\n",
       "      <th>diagnosis</th>\n",
       "      <th>radius_mean</th>\n",
       "      <th>texture_mean</th>\n",
       "      <th>perimeter_mean</th>\n",
       "      <th>area_mean</th>\n",
       "      <th>smoothness_mean</th>\n",
       "      <th>compactness_mean</th>\n",
       "      <th>concavity_mean</th>\n",
       "      <th>concave points_mean</th>\n",
       "      <th>...</th>\n",
       "      <th>radius_worst</th>\n",
       "      <th>texture_worst</th>\n",
       "      <th>perimeter_worst</th>\n",
       "      <th>area_worst</th>\n",
       "      <th>smoothness_worst</th>\n",
       "      <th>compactness_worst</th>\n",
       "      <th>concavity_worst</th>\n",
       "      <th>concave points_worst</th>\n",
       "      <th>symmetry_worst</th>\n",
       "      <th>fractal_dimension_worst</th>\n",
       "    </tr>\n",
       "  </thead>\n",
       "  <tbody>\n",
       "    <tr>\n",
       "      <th>0</th>\n",
       "      <td>842302</td>\n",
       "      <td>M</td>\n",
       "      <td>17.99</td>\n",
       "      <td>10.38</td>\n",
       "      <td>122.80</td>\n",
       "      <td>1001.0</td>\n",
       "      <td>0.11840</td>\n",
       "      <td>0.27760</td>\n",
       "      <td>0.3001</td>\n",
       "      <td>0.14710</td>\n",
       "      <td>...</td>\n",
       "      <td>25.38</td>\n",
       "      <td>17.33</td>\n",
       "      <td>184.60</td>\n",
       "      <td>2019.0</td>\n",
       "      <td>0.1622</td>\n",
       "      <td>0.6656</td>\n",
       "      <td>0.7119</td>\n",
       "      <td>0.2654</td>\n",
       "      <td>0.4601</td>\n",
       "      <td>0.11890</td>\n",
       "    </tr>\n",
       "    <tr>\n",
       "      <th>1</th>\n",
       "      <td>842517</td>\n",
       "      <td>M</td>\n",
       "      <td>20.57</td>\n",
       "      <td>17.77</td>\n",
       "      <td>132.90</td>\n",
       "      <td>1326.0</td>\n",
       "      <td>0.08474</td>\n",
       "      <td>0.07864</td>\n",
       "      <td>0.0869</td>\n",
       "      <td>0.07017</td>\n",
       "      <td>...</td>\n",
       "      <td>24.99</td>\n",
       "      <td>23.41</td>\n",
       "      <td>158.80</td>\n",
       "      <td>1956.0</td>\n",
       "      <td>0.1238</td>\n",
       "      <td>0.1866</td>\n",
       "      <td>0.2416</td>\n",
       "      <td>0.1860</td>\n",
       "      <td>0.2750</td>\n",
       "      <td>0.08902</td>\n",
       "    </tr>\n",
       "    <tr>\n",
       "      <th>2</th>\n",
       "      <td>84300903</td>\n",
       "      <td>M</td>\n",
       "      <td>19.69</td>\n",
       "      <td>21.25</td>\n",
       "      <td>130.00</td>\n",
       "      <td>1203.0</td>\n",
       "      <td>0.10960</td>\n",
       "      <td>0.15990</td>\n",
       "      <td>0.1974</td>\n",
       "      <td>0.12790</td>\n",
       "      <td>...</td>\n",
       "      <td>23.57</td>\n",
       "      <td>25.53</td>\n",
       "      <td>152.50</td>\n",
       "      <td>1709.0</td>\n",
       "      <td>0.1444</td>\n",
       "      <td>0.4245</td>\n",
       "      <td>0.4504</td>\n",
       "      <td>0.2430</td>\n",
       "      <td>0.3613</td>\n",
       "      <td>0.08758</td>\n",
       "    </tr>\n",
       "    <tr>\n",
       "      <th>3</th>\n",
       "      <td>84348301</td>\n",
       "      <td>M</td>\n",
       "      <td>11.42</td>\n",
       "      <td>20.38</td>\n",
       "      <td>77.58</td>\n",
       "      <td>386.1</td>\n",
       "      <td>0.14250</td>\n",
       "      <td>0.28390</td>\n",
       "      <td>0.2414</td>\n",
       "      <td>0.10520</td>\n",
       "      <td>...</td>\n",
       "      <td>14.91</td>\n",
       "      <td>26.50</td>\n",
       "      <td>98.87</td>\n",
       "      <td>567.7</td>\n",
       "      <td>0.2098</td>\n",
       "      <td>0.8663</td>\n",
       "      <td>0.6869</td>\n",
       "      <td>0.2575</td>\n",
       "      <td>0.6638</td>\n",
       "      <td>0.17300</td>\n",
       "    </tr>\n",
       "    <tr>\n",
       "      <th>4</th>\n",
       "      <td>84358402</td>\n",
       "      <td>M</td>\n",
       "      <td>20.29</td>\n",
       "      <td>14.34</td>\n",
       "      <td>135.10</td>\n",
       "      <td>1297.0</td>\n",
       "      <td>0.10030</td>\n",
       "      <td>0.13280</td>\n",
       "      <td>0.1980</td>\n",
       "      <td>0.10430</td>\n",
       "      <td>...</td>\n",
       "      <td>22.54</td>\n",
       "      <td>16.67</td>\n",
       "      <td>152.20</td>\n",
       "      <td>1575.0</td>\n",
       "      <td>0.1374</td>\n",
       "      <td>0.2050</td>\n",
       "      <td>0.4000</td>\n",
       "      <td>0.1625</td>\n",
       "      <td>0.2364</td>\n",
       "      <td>0.07678</td>\n",
       "    </tr>\n",
       "  </tbody>\n",
       "</table>\n",
       "<p>5 rows × 32 columns</p>\n",
       "</div>"
      ],
      "text/plain": [
       "         id diagnosis  radius_mean  texture_mean  perimeter_mean  area_mean  \\\n",
       "0    842302         M        17.99         10.38          122.80     1001.0   \n",
       "1    842517         M        20.57         17.77          132.90     1326.0   \n",
       "2  84300903         M        19.69         21.25          130.00     1203.0   \n",
       "3  84348301         M        11.42         20.38           77.58      386.1   \n",
       "4  84358402         M        20.29         14.34          135.10     1297.0   \n",
       "\n",
       "   smoothness_mean  compactness_mean  concavity_mean  concave points_mean  \\\n",
       "0          0.11840           0.27760          0.3001              0.14710   \n",
       "1          0.08474           0.07864          0.0869              0.07017   \n",
       "2          0.10960           0.15990          0.1974              0.12790   \n",
       "3          0.14250           0.28390          0.2414              0.10520   \n",
       "4          0.10030           0.13280          0.1980              0.10430   \n",
       "\n",
       "   ...  radius_worst  texture_worst  perimeter_worst  area_worst  \\\n",
       "0  ...         25.38          17.33           184.60      2019.0   \n",
       "1  ...         24.99          23.41           158.80      1956.0   \n",
       "2  ...         23.57          25.53           152.50      1709.0   \n",
       "3  ...         14.91          26.50            98.87       567.7   \n",
       "4  ...         22.54          16.67           152.20      1575.0   \n",
       "\n",
       "   smoothness_worst  compactness_worst  concavity_worst  concave points_worst  \\\n",
       "0            0.1622             0.6656           0.7119                0.2654   \n",
       "1            0.1238             0.1866           0.2416                0.1860   \n",
       "2            0.1444             0.4245           0.4504                0.2430   \n",
       "3            0.2098             0.8663           0.6869                0.2575   \n",
       "4            0.1374             0.2050           0.4000                0.1625   \n",
       "\n",
       "   symmetry_worst  fractal_dimension_worst  \n",
       "0          0.4601                  0.11890  \n",
       "1          0.2750                  0.08902  \n",
       "2          0.3613                  0.08758  \n",
       "3          0.6638                  0.17300  \n",
       "4          0.2364                  0.07678  \n",
       "\n",
       "[5 rows x 32 columns]"
      ]
     },
     "execution_count": 4,
     "metadata": {},
     "output_type": "execute_result"
    }
   ],
   "source": [
    "df.head(5)"
   ]
  },
  {
   "cell_type": "code",
   "execution_count": 5,
   "id": "7a31a721-7aa1-4925-bf27-e7c911a8ccc7",
   "metadata": {},
   "outputs": [
    {
     "data": {
      "text/plain": [
       "array(['M', 'B'], dtype=object)"
      ]
     },
     "execution_count": 5,
     "metadata": {},
     "output_type": "execute_result"
    }
   ],
   "source": [
    "df.diagnosis.unique()"
   ]
  },
  {
   "cell_type": "raw",
   "id": "5a4a8935-5f06-4402-b4cb-5b188894abf0",
   "metadata": {},
   "source": [
    "(M)malignant tumor - злокачественная, B - доброкачественная   "
   ]
  },
  {
   "cell_type": "raw",
   "id": "4c370f2d-bb16-4904-ae58-d8d5d8f7db50",
   "metadata": {},
   "source": [
    "Приведём к числовым значениям"
   ]
  },
  {
   "cell_type": "code",
   "execution_count": 6,
   "id": "5c71d81f-3274-4020-9993-5edc5f0e1668",
   "metadata": {},
   "outputs": [],
   "source": [
    "df.diagnosis = df.diagnosis.astype(str)\n",
    "df.diagnosis =  df.diagnosis.apply(lambda x: 1 if  x == \"M\" else -1)"
   ]
  },
  {
   "cell_type": "code",
   "execution_count": 7,
   "id": "e66f2f4f-6949-469a-9941-de93c5983c7e",
   "metadata": {},
   "outputs": [
    {
     "data": {
      "text/html": [
       "<div>\n",
       "<style scoped>\n",
       "    .dataframe tbody tr th:only-of-type {\n",
       "        vertical-align: middle;\n",
       "    }\n",
       "\n",
       "    .dataframe tbody tr th {\n",
       "        vertical-align: top;\n",
       "    }\n",
       "\n",
       "    .dataframe thead th {\n",
       "        text-align: right;\n",
       "    }\n",
       "</style>\n",
       "<table border=\"1\" class=\"dataframe\">\n",
       "  <thead>\n",
       "    <tr style=\"text-align: right;\">\n",
       "      <th></th>\n",
       "      <th>id</th>\n",
       "      <th>diagnosis</th>\n",
       "      <th>radius_mean</th>\n",
       "      <th>texture_mean</th>\n",
       "      <th>perimeter_mean</th>\n",
       "      <th>area_mean</th>\n",
       "      <th>smoothness_mean</th>\n",
       "      <th>compactness_mean</th>\n",
       "      <th>concavity_mean</th>\n",
       "      <th>concave points_mean</th>\n",
       "      <th>...</th>\n",
       "      <th>radius_worst</th>\n",
       "      <th>texture_worst</th>\n",
       "      <th>perimeter_worst</th>\n",
       "      <th>area_worst</th>\n",
       "      <th>smoothness_worst</th>\n",
       "      <th>compactness_worst</th>\n",
       "      <th>concavity_worst</th>\n",
       "      <th>concave points_worst</th>\n",
       "      <th>symmetry_worst</th>\n",
       "      <th>fractal_dimension_worst</th>\n",
       "    </tr>\n",
       "  </thead>\n",
       "  <tbody>\n",
       "    <tr>\n",
       "      <th>0</th>\n",
       "      <td>842302</td>\n",
       "      <td>1</td>\n",
       "      <td>17.99</td>\n",
       "      <td>10.38</td>\n",
       "      <td>122.8</td>\n",
       "      <td>1001.0</td>\n",
       "      <td>0.11840</td>\n",
       "      <td>0.27760</td>\n",
       "      <td>0.3001</td>\n",
       "      <td>0.14710</td>\n",
       "      <td>...</td>\n",
       "      <td>25.38</td>\n",
       "      <td>17.33</td>\n",
       "      <td>184.6</td>\n",
       "      <td>2019.0</td>\n",
       "      <td>0.1622</td>\n",
       "      <td>0.6656</td>\n",
       "      <td>0.7119</td>\n",
       "      <td>0.2654</td>\n",
       "      <td>0.4601</td>\n",
       "      <td>0.11890</td>\n",
       "    </tr>\n",
       "    <tr>\n",
       "      <th>1</th>\n",
       "      <td>842517</td>\n",
       "      <td>1</td>\n",
       "      <td>20.57</td>\n",
       "      <td>17.77</td>\n",
       "      <td>132.9</td>\n",
       "      <td>1326.0</td>\n",
       "      <td>0.08474</td>\n",
       "      <td>0.07864</td>\n",
       "      <td>0.0869</td>\n",
       "      <td>0.07017</td>\n",
       "      <td>...</td>\n",
       "      <td>24.99</td>\n",
       "      <td>23.41</td>\n",
       "      <td>158.8</td>\n",
       "      <td>1956.0</td>\n",
       "      <td>0.1238</td>\n",
       "      <td>0.1866</td>\n",
       "      <td>0.2416</td>\n",
       "      <td>0.1860</td>\n",
       "      <td>0.2750</td>\n",
       "      <td>0.08902</td>\n",
       "    </tr>\n",
       "  </tbody>\n",
       "</table>\n",
       "<p>2 rows × 32 columns</p>\n",
       "</div>"
      ],
      "text/plain": [
       "       id  diagnosis  radius_mean  texture_mean  perimeter_mean  area_mean  \\\n",
       "0  842302          1        17.99         10.38           122.8     1001.0   \n",
       "1  842517          1        20.57         17.77           132.9     1326.0   \n",
       "\n",
       "   smoothness_mean  compactness_mean  concavity_mean  concave points_mean  \\\n",
       "0          0.11840           0.27760          0.3001              0.14710   \n",
       "1          0.08474           0.07864          0.0869              0.07017   \n",
       "\n",
       "   ...  radius_worst  texture_worst  perimeter_worst  area_worst  \\\n",
       "0  ...         25.38          17.33            184.6      2019.0   \n",
       "1  ...         24.99          23.41            158.8      1956.0   \n",
       "\n",
       "   smoothness_worst  compactness_worst  concavity_worst  concave points_worst  \\\n",
       "0            0.1622             0.6656           0.7119                0.2654   \n",
       "1            0.1238             0.1866           0.2416                0.1860   \n",
       "\n",
       "   symmetry_worst  fractal_dimension_worst  \n",
       "0          0.4601                  0.11890  \n",
       "1          0.2750                  0.08902  \n",
       "\n",
       "[2 rows x 32 columns]"
      ]
     },
     "execution_count": 7,
     "metadata": {},
     "output_type": "execute_result"
    }
   ],
   "source": [
    "df.head(2)"
   ]
  },
  {
   "cell_type": "raw",
   "id": "8fdc20f2-0018-42f8-8ebd-6861cbd124c2",
   "metadata": {},
   "source": [
    "Посмотрим на соотношение классов"
   ]
  },
  {
   "cell_type": "code",
   "execution_count": 8,
   "id": "edc21a25-cb26-4309-b83e-26ec08f589ed",
   "metadata": {},
   "outputs": [
    {
     "data": {
      "text/html": [
       "<div>\n",
       "<style scoped>\n",
       "    .dataframe tbody tr th:only-of-type {\n",
       "        vertical-align: middle;\n",
       "    }\n",
       "\n",
       "    .dataframe tbody tr th {\n",
       "        vertical-align: top;\n",
       "    }\n",
       "\n",
       "    .dataframe thead tr th {\n",
       "        text-align: left;\n",
       "    }\n",
       "\n",
       "    .dataframe thead tr:last-of-type th {\n",
       "        text-align: right;\n",
       "    }\n",
       "</style>\n",
       "<table border=\"1\" class=\"dataframe\">\n",
       "  <thead>\n",
       "    <tr>\n",
       "      <th></th>\n",
       "      <th colspan=\"8\" halign=\"left\">id</th>\n",
       "      <th colspan=\"2\" halign=\"left\">radius_mean</th>\n",
       "      <th>...</th>\n",
       "      <th colspan=\"2\" halign=\"left\">symmetry_worst</th>\n",
       "      <th colspan=\"8\" halign=\"left\">fractal_dimension_worst</th>\n",
       "    </tr>\n",
       "    <tr>\n",
       "      <th></th>\n",
       "      <th>count</th>\n",
       "      <th>mean</th>\n",
       "      <th>std</th>\n",
       "      <th>min</th>\n",
       "      <th>25%</th>\n",
       "      <th>50%</th>\n",
       "      <th>75%</th>\n",
       "      <th>max</th>\n",
       "      <th>count</th>\n",
       "      <th>mean</th>\n",
       "      <th>...</th>\n",
       "      <th>75%</th>\n",
       "      <th>max</th>\n",
       "      <th>count</th>\n",
       "      <th>mean</th>\n",
       "      <th>std</th>\n",
       "      <th>min</th>\n",
       "      <th>25%</th>\n",
       "      <th>50%</th>\n",
       "      <th>75%</th>\n",
       "      <th>max</th>\n",
       "    </tr>\n",
       "    <tr>\n",
       "      <th>diagnosis</th>\n",
       "      <th></th>\n",
       "      <th></th>\n",
       "      <th></th>\n",
       "      <th></th>\n",
       "      <th></th>\n",
       "      <th></th>\n",
       "      <th></th>\n",
       "      <th></th>\n",
       "      <th></th>\n",
       "      <th></th>\n",
       "      <th></th>\n",
       "      <th></th>\n",
       "      <th></th>\n",
       "      <th></th>\n",
       "      <th></th>\n",
       "      <th></th>\n",
       "      <th></th>\n",
       "      <th></th>\n",
       "      <th></th>\n",
       "      <th></th>\n",
       "      <th></th>\n",
       "    </tr>\n",
       "  </thead>\n",
       "  <tbody>\n",
       "    <tr>\n",
       "      <th>-1</th>\n",
       "      <td>357.0</td>\n",
       "      <td>2.654382e+07</td>\n",
       "      <td>1.167397e+08</td>\n",
       "      <td>8913.0</td>\n",
       "      <td>874662.0</td>\n",
       "      <td>908916.0</td>\n",
       "      <td>8812816.00</td>\n",
       "      <td>911320502.0</td>\n",
       "      <td>357.0</td>\n",
       "      <td>12.146524</td>\n",
       "      <td>...</td>\n",
       "      <td>0.298300</td>\n",
       "      <td>0.4228</td>\n",
       "      <td>357.0</td>\n",
       "      <td>0.079442</td>\n",
       "      <td>0.013804</td>\n",
       "      <td>0.05521</td>\n",
       "      <td>0.070090</td>\n",
       "      <td>0.07712</td>\n",
       "      <td>0.085410</td>\n",
       "      <td>0.1486</td>\n",
       "    </tr>\n",
       "    <tr>\n",
       "      <th>1</th>\n",
       "      <td>212.0</td>\n",
       "      <td>3.681805e+07</td>\n",
       "      <td>1.378965e+08</td>\n",
       "      <td>8670.0</td>\n",
       "      <td>861345.0</td>\n",
       "      <td>895366.5</td>\n",
       "      <td>8911289.75</td>\n",
       "      <td>911296202.0</td>\n",
       "      <td>212.0</td>\n",
       "      <td>17.462830</td>\n",
       "      <td>...</td>\n",
       "      <td>0.359225</td>\n",
       "      <td>0.6638</td>\n",
       "      <td>212.0</td>\n",
       "      <td>0.091530</td>\n",
       "      <td>0.021553</td>\n",
       "      <td>0.05504</td>\n",
       "      <td>0.076302</td>\n",
       "      <td>0.08760</td>\n",
       "      <td>0.102625</td>\n",
       "      <td>0.2075</td>\n",
       "    </tr>\n",
       "  </tbody>\n",
       "</table>\n",
       "<p>2 rows × 248 columns</p>\n",
       "</div>"
      ],
      "text/plain": [
       "              id                                                          \\\n",
       "           count          mean           std     min       25%       50%   \n",
       "diagnosis                                                                  \n",
       "-1         357.0  2.654382e+07  1.167397e+08  8913.0  874662.0  908916.0   \n",
       " 1         212.0  3.681805e+07  1.378965e+08  8670.0  861345.0  895366.5   \n",
       "\n",
       "                                   radius_mean             ... symmetry_worst  \\\n",
       "                  75%          max       count       mean  ...            75%   \n",
       "diagnosis                                                  ...                  \n",
       "-1         8812816.00  911320502.0       357.0  12.146524  ...       0.298300   \n",
       " 1         8911289.75  911296202.0       212.0  17.462830  ...       0.359225   \n",
       "\n",
       "                  fractal_dimension_worst                               \\\n",
       "              max                   count      mean       std      min   \n",
       "diagnosis                                                                \n",
       "-1         0.4228                   357.0  0.079442  0.013804  0.05521   \n",
       " 1         0.6638                   212.0  0.091530  0.021553  0.05504   \n",
       "\n",
       "                                                \n",
       "                25%      50%       75%     max  \n",
       "diagnosis                                       \n",
       "-1         0.070090  0.07712  0.085410  0.1486  \n",
       " 1         0.076302  0.08760  0.102625  0.2075  \n",
       "\n",
       "[2 rows x 248 columns]"
      ]
     },
     "execution_count": 8,
     "metadata": {},
     "output_type": "execute_result"
    }
   ],
   "source": [
    "df.groupby([\"diagnosis\"]).describe()"
   ]
  },
  {
   "cell_type": "code",
   "execution_count": 9,
   "id": "be7681d0-03e3-4d89-afa4-4f6913189828",
   "metadata": {},
   "outputs": [
    {
     "data": {
      "text/plain": [
       "0.37258347978910367"
      ]
     },
     "execution_count": 9,
     "metadata": {},
     "output_type": "execute_result"
    }
   ],
   "source": [
    "ratio_classes = 212.0/569\n",
    "ratio_classes # примерно  37 процентов класс M, классы несбалансированы"
   ]
  },
  {
   "cell_type": "code",
   "execution_count": 10,
   "id": "4b9fb160-72d9-4d7e-a16f-909509b271ba",
   "metadata": {},
   "outputs": [],
   "source": [
    "y = df.diagnosis.values\n",
    "X = df.iloc[:,2:].values\n",
    "scaler = StandardScaler() # засклейим\n",
    "X = scaler.fit_transform(X)"
   ]
  },
  {
   "cell_type": "code",
   "execution_count": 11,
   "id": "03d3d30f-e411-442c-8d1f-9c3e32d7d5a2",
   "metadata": {},
   "outputs": [],
   "source": [
    "X_train, X_test, y_train, y_test = train_test_split(\n",
    "    X, y, test_size=0.2, random_state=42, stratify=y\n",
    ")"
   ]
  },
  {
   "cell_type": "code",
   "execution_count": 12,
   "id": "40ff3ec1-eb17-42ef-b2ed-08272bb9d9ea",
   "metadata": {},
   "outputs": [
    {
     "data": {
      "text/plain": [
       "0.37362637362637363"
      ]
     },
     "execution_count": 12,
     "metadata": {},
     "output_type": "execute_result"
    }
   ],
   "source": [
    "y_train[y_train==1].sum()/ len(y_train)# пропорции норм"
   ]
  },
  {
   "cell_type": "code",
   "execution_count": 13,
   "id": "883ce828-021f-4cb8-a684-032c0b443f91",
   "metadata": {},
   "outputs": [
    {
     "name": "stdout",
     "output_type": "stream",
     "text": [
      "Коэффициенты: [[ 0.          0.          0.          0.          0.          0.\n",
      "   0.          1.94831487  0.          0.          2.59761674 -0.69674345\n",
      "   0.          0.          0.35824865 -1.00439707  0.          0.11784933\n",
      "   0.         -0.25879246  0.09416868  2.09380004  0.          3.75679638\n",
      "   0.22382048  0.          1.03562348  0.40022704  0.65826178  0.        ]]\n",
      "Выбранные признаки: [ 7 10 11 14 15 17 19 20 21 23 24 26 27 28]\n",
      "              precision    recall  f1-score   support\n",
      "\n",
      "          -1       0.97      1.00      0.99        72\n",
      "           1       1.00      0.95      0.98        42\n",
      "\n",
      "    accuracy                           0.98       114\n",
      "   macro avg       0.99      0.98      0.98       114\n",
      "weighted avg       0.98      0.98      0.98       114\n",
      "\n"
     ]
    }
   ],
   "source": [
    "log_reg = LogisticRegression(penalty='l1', solver='liblinear', C=1.0)\n",
    "log_reg.fit(X_train, y_train)\n",
    "print(\"Коэффициенты:\", log_reg.coef_)\n",
    "selected_features = np.where(log_reg.coef_[0] != 0)[0]\n",
    "print(\"Выбранные признаки:\", selected_features)\n",
    "X_train_selected = X_train[:, selected_features]\n",
    "X_test_selected = X_test[:, selected_features]\n",
    "model_final = LogisticRegression()\n",
    "model_final.fit(X_train_selected, y_train)\n",
    "\n",
    "# Оценка точности модели на тестовой выборке\n",
    "\n",
    "y_pred = model_final.predict(X_test_selected)\n",
    "report = classification_report(y_test, y_pred)\n",
    "print(report)"
   ]
  },
  {
   "cell_type": "raw",
   "id": "966c8eef-94fd-4916-b7bb-1fd361a2843b",
   "metadata": {},
   "source": [
    "Просто попробовал посмотреть, какие признаки значимые, и потом учиться на них, но это не сработало"
   ]
  },
  {
   "cell_type": "code",
   "execution_count": 19,
   "id": "7a8e0ddf-de1e-4715-9948-1330d7277194",
   "metadata": {},
   "outputs": [],
   "source": [
    "def  solver(random_seed, test_size, X, y):\n",
    "    np.random.seed(random_seed)\n",
    "    X_train, X_test, y_train, y_test = train_test_split(\n",
    "    X, y, test_size=test_size, stratify=y)\n",
    "\n",
    "    cross_val = StratifiedKFold(5, shuffle = True)\n",
    "    number_of_batch = cross_val.get_n_splits(X_train)\n",
    "    gammas = [1e-10, 1e-4, 1e-3, 1e-2, .1, 1., 10., 1e2, 1e3, 1e4, 1e10]\n",
    "    gamma_scores  = dict()\n",
    "    for  gamma in gammas:\n",
    "        list_of_scores = []\n",
    "        for train_index, test_index in tqdm(cross_val.split(X_train, y_train), \n",
    "                                        total=number_of_batch, leave=False):\n",
    "            x_train_fold = X_train[train_index]\n",
    "            x_test_fold = X_train[test_index]\n",
    "            y_train_fold = y_train[train_index]\n",
    "            y_test_fold = y_train[test_index]\n",
    "            \n",
    "            model = LogisticRegression(penalty='l2', C=2/gamma, solver='liblinear',fit_intercept=True, max_iter=2000)\n",
    "            model.fit(x_train_fold, y_train_fold)\n",
    "            y_pred_fold = model.predict(x_test_fold)\n",
    "            list_of_scores.append(f1_score(y_test_fold, y_pred_fold, average='weighted'))\n",
    "            \n",
    "        gamma_scores[gamma] = np.mean(list_of_scores)\n",
    "        \n",
    "    best_gamma = sorted(gamma_scores, \n",
    "                        key=lambda x: gamma_scores[x], reverse=True)[0]\n",
    "    \n",
    "    model = LogisticRegression(penalty='l2', C=2/best_gamma, fit_intercept=True,  solver='liblinear', max_iter=2000)\n",
    "    model.fit(X_train, y_train)\n",
    "    y_pred = model.predict(X_test)\n",
    "    print(\"LOG REG + L2 solver\")\n",
    "    print(f'Лучшие параметры:, gamma:{best_gamma}')\n",
    "    report = classification_report(y_test, y_pred)\n",
    "    print(report)\n",
    "    #########################\n",
    "    param_grid = {\n",
    "        'C': [0.001, 0.1, 1, 10, 100],\n",
    "        'kernel': ['linear', 'rbf', 'poly'],\n",
    "        'gamma': ['scale', 'auto', 0.001, 0.01, 0.1, 1, 10],\n",
    "        'degree' : [2,3,4,5]\n",
    "    }\n",
    "    \n",
    "    model = SVC()\n",
    "    stratified_kfold = StratifiedKFold(n_splits=5)\n",
    "    grid_search = GridSearchCV(estimator=model, param_grid=param_grid, cv=stratified_kfold, scoring='f1_weighted', n_jobs=-1, verbose=1)\n",
    "    grid_search.fit(X_train, y_train)\n",
    "    best_params = grid_search.best_params_\n",
    "    print(\"SVM solver\")\n",
    "    print(\"Лучшие параметры:\", best_params)\n",
    "    best_model = grid_search.best_estimator_\n",
    "    \n",
    "    y_pred = best_model.predict(X_test)\n",
    "    print(classification_report(y_test, y_pred))\n",
    "    ############################\n",
    "    param_grid = {\n",
    "        'criterion': ['gini', 'entropy'],  # Критерий разделения\n",
    "        'max_depth': [None, 10, 20, 30, 40],  # Максимальная глубина дерева\n",
    "        'min_samples_split': [2, 5, 10],  # Минимальное количество образцов для разделения\n",
    "        'min_samples_leaf': [1, 2, 4],  # Минимальное количество образцов в листовом узле\n",
    "    }\n",
    "    model = DecisionTreeClassifier()\n",
    "    grid_search = GridSearchCV(estimator=model, param_grid=param_grid, scoring='f1', cv=5, n_jobs=-1, verbose=1)\n",
    "    grid_search.fit(X_train, y_train)\n",
    "    best_params = grid_search.best_params_\n",
    "    print(\"Decision Trees solver\")\n",
    "    print(\"Лучшие параметры:\", best_params)\n",
    "    best_model = grid_search.best_estimator_\n",
    "    y_pred = best_model.predict(X_test)\n",
    "    \n",
    "    # Вывод отчета о классификации\n",
    "    print(classification_report(y_test, y_pred))"
   ]
  },
  {
   "cell_type": "code",
   "execution_count": 20,
   "id": "9e838f3c-3503-4803-9688-781a50272df8",
   "metadata": {},
   "outputs": [
    {
     "name": "stderr",
     "output_type": "stream",
     "text": [
      "                                                                                                                       \r"
     ]
    },
    {
     "name": "stdout",
     "output_type": "stream",
     "text": [
      "LOG REG + L2 solver\n",
      "Лучшие параметры:, gamma:1.0\n",
      "              precision    recall  f1-score   support\n",
      "\n",
      "          -1       0.95      0.99      0.97       100\n",
      "           1       0.98      0.92      0.95        60\n",
      "\n",
      "    accuracy                           0.96       160\n",
      "   macro avg       0.97      0.95      0.96       160\n",
      "weighted avg       0.96      0.96      0.96       160\n",
      "\n",
      "Fitting 5 folds for each of 420 candidates, totalling 2100 fits\n"
     ]
    },
    {
     "name": "stderr",
     "output_type": "stream",
     "text": [
      "C:\\Users\\kuzin\\AppData\\Local\\Programs\\Python\\Python311\\Lib\\site-packages\\numpy\\ma\\core.py:2820: RuntimeWarning: invalid value encountered in cast\n",
      "  _data = np.array(data, dtype=dtype, copy=copy,\n"
     ]
    },
    {
     "name": "stdout",
     "output_type": "stream",
     "text": [
      "SVM solver\n",
      "Лучшие параметры: {'C': 0.1, 'degree': 2, 'gamma': 'scale', 'kernel': 'linear'}\n",
      "              precision    recall  f1-score   support\n",
      "\n",
      "          -1       0.95      0.99      0.97       100\n",
      "           1       0.98      0.92      0.95        60\n",
      "\n",
      "    accuracy                           0.96       160\n",
      "   macro avg       0.97      0.95      0.96       160\n",
      "weighted avg       0.96      0.96      0.96       160\n",
      "\n",
      "Fitting 5 folds for each of 90 candidates, totalling 450 fits\n",
      "Decision Trees solver\n",
      "Лучшие параметры: {'criterion': 'entropy', 'max_depth': None, 'min_samples_leaf': 1, 'min_samples_split': 5}\n",
      "              precision    recall  f1-score   support\n",
      "\n",
      "          -1       0.94      0.93      0.93       100\n",
      "           1       0.89      0.90      0.89        60\n",
      "\n",
      "    accuracy                           0.92       160\n",
      "   macro avg       0.91      0.92      0.91       160\n",
      "weighted avg       0.92      0.92      0.92       160\n",
      "\n"
     ]
    }
   ],
   "source": [
    "solver(300, 0.28, X,y)"
   ]
  },
  {
   "cell_type": "raw",
   "id": "a6d19b96-7830-427d-a98d-3872b40f57bc",
   "metadata": {},
   "source": [
    "Максимальную точность по weighted  f1_score показала логистическая регрессия, f1-score  = 0.97"
   ]
  },
  {
   "cell_type": "code",
   "execution_count": 21,
   "id": "e0e7b2b3-70df-4a7f-af77-86984cb61e34",
   "metadata": {},
   "outputs": [
    {
     "name": "stderr",
     "output_type": "stream",
     "text": [
      "                                                                                                                       \r"
     ]
    },
    {
     "name": "stdout",
     "output_type": "stream",
     "text": [
      "LOG REG + L2 solver\n",
      "Лучшие параметры:, gamma:1.0\n",
      "              precision    recall  f1-score   support\n",
      "\n",
      "          -1       0.96      1.00      0.98        86\n",
      "           1       1.00      0.92      0.96        51\n",
      "\n",
      "    accuracy                           0.97       137\n",
      "   macro avg       0.98      0.96      0.97       137\n",
      "weighted avg       0.97      0.97      0.97       137\n",
      "\n",
      "Fitting 5 folds for each of 420 candidates, totalling 2100 fits\n",
      "SVM solver\n",
      "Лучшие параметры: {'C': 10, 'degree': 2, 'gamma': 0.01, 'kernel': 'rbf'}\n",
      "              precision    recall  f1-score   support\n",
      "\n",
      "          -1       0.98      1.00      0.99        86\n",
      "           1       1.00      0.96      0.98        51\n",
      "\n",
      "    accuracy                           0.99       137\n",
      "   macro avg       0.99      0.98      0.98       137\n",
      "weighted avg       0.99      0.99      0.99       137\n",
      "\n",
      "Fitting 5 folds for each of 90 candidates, totalling 450 fits\n",
      "Decision Trees solver\n",
      "Лучшие параметры: {'criterion': 'entropy', 'max_depth': 40, 'min_samples_leaf': 4, 'min_samples_split': 5}\n",
      "              precision    recall  f1-score   support\n",
      "\n",
      "          -1       0.93      0.97      0.95        86\n",
      "           1       0.94      0.88      0.91        51\n",
      "\n",
      "    accuracy                           0.93       137\n",
      "   macro avg       0.94      0.92      0.93       137\n",
      "weighted avg       0.93      0.93      0.93       137\n",
      "\n"
     ]
    }
   ],
   "source": [
    "solver(13, 0.24, X,y)"
   ]
  },
  {
   "cell_type": "raw",
   "id": "dd64d11e-31ea-4f08-a6fe-517b791fe998",
   "metadata": {},
   "source": [
    "Лучшая - svm c радиально базисным ядром со следующими параметрами \n",
    "{'C': 10, 'gamma': 0.01}. Причём ядро поменялось в отличие от предыдущего случая с линейного на rbf. Может с таким\n",
    "сидом и разбиением в обчучающую выборку вошло больше векторов более близких к настоящей разделяющей поверхности"
   ]
  },
  {
   "cell_type": "code",
   "execution_count": 22,
   "id": "feab9fda-8f0e-4021-a3de-108080006a06",
   "metadata": {},
   "outputs": [
    {
     "name": "stderr",
     "output_type": "stream",
     "text": [
      "                                                                                                                       \r"
     ]
    },
    {
     "name": "stdout",
     "output_type": "stream",
     "text": [
      "LOG REG + L2 solver\n",
      "Лучшие параметры:, gamma:1.0\n",
      "              precision    recall  f1-score   support\n",
      "\n",
      "          -1       0.96      0.99      0.97        72\n",
      "           1       0.97      0.93      0.95        42\n",
      "\n",
      "    accuracy                           0.96       114\n",
      "   macro avg       0.97      0.96      0.96       114\n",
      "weighted avg       0.97      0.96      0.96       114\n",
      "\n",
      "Fitting 5 folds for each of 420 candidates, totalling 2100 fits\n",
      "SVM solver\n",
      "Лучшие параметры: {'C': 10, 'degree': 2, 'gamma': 0.01, 'kernel': 'rbf'}\n",
      "              precision    recall  f1-score   support\n",
      "\n",
      "          -1       0.97      0.99      0.98        72\n",
      "           1       0.98      0.95      0.96        42\n",
      "\n",
      "    accuracy                           0.97       114\n",
      "   macro avg       0.97      0.97      0.97       114\n",
      "weighted avg       0.97      0.97      0.97       114\n",
      "\n",
      "Fitting 5 folds for each of 90 candidates, totalling 450 fits\n",
      "Decision Trees solver\n",
      "Лучшие параметры: {'criterion': 'entropy', 'max_depth': None, 'min_samples_leaf': 4, 'min_samples_split': 5}\n",
      "              precision    recall  f1-score   support\n",
      "\n",
      "          -1       0.92      0.99      0.95        72\n",
      "           1       0.97      0.86      0.91        42\n",
      "\n",
      "    accuracy                           0.94       114\n",
      "   macro avg       0.95      0.92      0.93       114\n",
      "weighted avg       0.94      0.94      0.94       114\n",
      "\n"
     ]
    }
   ],
   "source": [
    "solver(8, 0.2, X,y)"
   ]
  },
  {
   "cell_type": "raw",
   "id": "bcd893fa-e95b-4a82-a0cc-adfb0834fba5",
   "metadata": {
    "scrolled": true
   },
   "source": [
    "В общем, лучше себя показывает SVM c rbf ядром. Для LogReg гиперпараметры не менялись, для деревьев очевидно\n",
    "они были разными, также для SVM наблюдали смену ядра и повышении целевой метрики. На небольших данных SVM ешё и быстрее всех учится, так что хороший вариант для  итогого решения это SVM с rbf ядром и с параметрами 'C': 10, 'gamma': 0.01"
   ]
  },
  {
   "cell_type": "code",
   "execution_count": null,
   "id": "df2fa51d-00eb-412d-92c1-c86ef40c04c3",
   "metadata": {},
   "outputs": [],
   "source": ""
  }
 ],
 "metadata": {
  "kernelspec": {
   "display_name": "venv",
   "language": "python",
   "name": "venv"
  },
  "language_info": {
   "codemirror_mode": {
    "name": "ipython",
    "version": 3
   },
   "file_extension": ".py",
   "mimetype": "text/x-python",
   "name": "python",
   "nbconvert_exporter": "python",
   "pygments_lexer": "ipython3",
   "version": "3.11.5"
  }
 },
 "nbformat": 4,
 "nbformat_minor": 5
}
